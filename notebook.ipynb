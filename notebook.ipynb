{
  "nbformat": 4,
  "nbformat_minor": 0,
  "metadata": {
    "colab": {
      "provenance": [],
      "collapsed_sections": [
        "QReFpU112hLT",
        "D5MsCpUv2tuj"
      ]
    },
    "kernelspec": {
      "name": "python3",
      "display_name": "Python 3"
    },
    "language_info": {
      "name": "python"
    }
  },
  "cells": [
    {
      "cell_type": "markdown",
      "source": [
        "# Mid-semester assignment Part 1 - Basics of deep learning\n",
        "Hello dear students,<br> this is the template notebook. Please copy it into your drive and open as Google Colab nootebook\".\n",
        "\n",
        "---\n",
        "<br>\n",
        "\n",
        "### Name and ID:\n",
        "Student 1: shir zohar- 323856542\n",
        "<br>\n",
        "Student 2:sivan zagdon - 213002918"
      ],
      "metadata": {
        "collapsed": false,
        "pycharm": {
          "name": "#%% md\n"
        },
        "id": "XDDbguyGU8Fs"
      }
    },
    {
      "cell_type": "markdown",
      "source": [
        "## Sign Language Digits With NumPy\n",
        "Sign Language Digits dataset contains 5,000 grayscale images in 10 categories. The images show individual articles of hand sign at low resolution (28 by 28 pixels), as seen here:\n",
        "\n",
        "<table>\n",
        "  <tr><td>\n",
        "    <img src=\"https://www.researchgate.net/publication/344389112/figure/fig8/AS:941467451260937@1601474740275/Sample-images-from-ASL-with-digits-dataset.png\"\n",
        "         alt=\"Fashion MNIST sprite\"  width=\"600\">\n",
        "  </td></tr>\n",
        "  \n",
        "</table>\n",
        "\n"
      ],
      "metadata": {
        "id": "JLkWLC8f3HZI"
      }
    },
    {
      "cell_type": "markdown",
      "source": [
        "\n",
        "\n",
        "The images are 28x28 NumPy arrays, with pixel values ranging between 0 and 255. The *labels* are an array of numbers ranging from '0' to '9'. These correspond to the *class* of hand sign digit the image represents:\n",
        "\n",
        "<table>\n",
        "  <tr>\n",
        "    <th>Label</th>\n",
        "    <th>Class</th>\n",
        "  </tr>\n",
        "  <tr>\n",
        "    <td>0</td>\n",
        "    <td>Hand Sign Zero</td>\n",
        "  </tr>\n",
        "  <tr>\n",
        "    <td>1</td>\n",
        "    <td>Hand Sign One</td>\n",
        "  </tr>\n",
        "    <tr>\n",
        "    <td>2</td>\n",
        "    <td>Hand Sign Two</td>\n",
        "  </tr>\n",
        "    <tr>\n",
        "    <td>3</td>\n",
        "    <td>Hand Sign Three</td>\n",
        "  </tr>\n",
        "    <tr>\n",
        "    <td>4</td>\n",
        "    <td>Hand Sign Four</td>\n",
        "  </tr>\n",
        "    <tr>\n",
        "    <td>5</td>\n",
        "    <td>Hand Sign Five</td>\n",
        "  </tr>\n",
        "    <tr>\n",
        "    <td>6</td>\n",
        "    <td>Hand Sign Six</td>\n",
        "  </tr>\n",
        "    <tr>\n",
        "    <td>7</td>\n",
        "    <td>Hand Sign Seven</td>\n",
        "  </tr>\n",
        "    <tr>\n",
        "    <td>8</td>\n",
        "    <td>Hand Sign Eight</td>\n",
        "  </tr>\n",
        "    <tr>\n",
        "    <td>9</td>\n",
        "    <td>Hand Sign Nine</td>\n",
        "  </tr>\n",
        "</table>\n",
        "\n",
        "<br>\n",
        "\n",
        "# Goodluck!"
      ],
      "metadata": {
        "id": "WiRxNFCn3Vxd"
      }
    },
    {
      "cell_type": "markdown",
      "source": [
        "#Neural Network in plain NumPy"
      ],
      "metadata": {
        "collapsed": false,
        "id": "4K84YZ_QU8Fv"
      }
    },
    {
      "cell_type": "markdown",
      "source": [
        "## Import Libraries"
      ],
      "metadata": {
        "id": "QReFpU112hLT"
      }
    },
    {
      "cell_type": "code",
      "source": [
        "import numpy as np\n",
        "import matplotlib\n",
        "import matplotlib.pyplot as plt\n",
        "from sklearn.datasets import fetch_openml\n",
        "from sklearn.metrics import classification_report, confusion_matrix"
      ],
      "metadata": {
        "pycharm": {
          "name": "#%%\n"
        },
        "id": "tLOHjUiFU8Fv"
      },
      "execution_count": null,
      "outputs": []
    },
    {
      "cell_type": "markdown",
      "source": [
        "## Dwonload Dataset"
      ],
      "metadata": {
        "id": "D5MsCpUv2tuj"
      }
    },
    {
      "cell_type": "code",
      "source": [
        "%%capture\n",
        "!pip install ipython-autotime\n",
        "!pip install -U --no-cache-dir gdown --pre\n",
        "!gdown --id 1-0fhqH8tXKPb60C_b4aUHT7f-J4O6Ezq\n",
        "%load_ext autotime"
      ],
      "metadata": {
        "id": "SiM-d_4cV1aZ",
        "colab": {
          "base_uri": "https://localhost:8080/"
        },
        "outputId": "240f9f02-930c-46d2-aaad-da140c9b61fd"
      },
      "execution_count": null,
      "outputs": [
        {
          "output_type": "stream",
          "name": "stdout",
          "text": [
            "time: 588 µs (started: 2024-12-23 20:22:22 +00:00)\n"
          ]
        }
      ]
    },
    {
      "cell_type": "markdown",
      "source": [
        "Loading the dataset as NumPy arrays:\n",
        "\n",
        "* The `dataset` file is a NumPy array containing the image pixles. As you can see, it includes 5,000 rows for each image and 784 columns for each pixel in the image (28x28).\n",
        "* The `labels` file is a NumPy array containing the images labels. As you can see, it includes 5,000 rows for each image corresponding to the dataset."
      ],
      "metadata": {
        "id": "uj30jTHwXNXp"
      }
    },
    {
      "cell_type": "code",
      "source": [
        "loaded_data = np.load('/content/dataset_labels.npz')\n",
        "X, y = loaded_data['dataset'], loaded_data['labels']\n",
        "print(f'Dataset shape: {X.shape}\\nLabels shape: {y.shape}')"
      ],
      "metadata": {
        "id": "nbzv9ZYA2pyW",
        "colab": {
          "base_uri": "https://localhost:8080/"
        },
        "outputId": "df7ac1bf-78f2-4b61-e2f8-2fb685eb75d8"
      },
      "execution_count": null,
      "outputs": [
        {
          "output_type": "stream",
          "name": "stdout",
          "text": [
            "Dataset shape: (5000, 784)\n",
            "Labels shape: (5000,)\n",
            "time: 105 ms (started: 2024-12-23 20:22:29 +00:00)\n"
          ]
        }
      ]
    },
    {
      "cell_type": "markdown",
      "metadata": {
        "id": "GPBGGKtSoVpU"
      },
      "source": [
        "## Data preprocessing (10%)"
      ]
    },
    {
      "cell_type": "markdown",
      "metadata": {
        "id": "LZfq8otp-wXY"
      },
      "source": [
        "### Feature scaling"
      ]
    },
    {
      "cell_type": "code",
      "metadata": {
        "id": "7MZtZIzzDIKe",
        "colab": {
          "base_uri": "https://localhost:8080/"
        },
        "outputId": "24e2ecbc-72c6-4b58-e01d-ebb995742dfe"
      },
      "source": [
        "examples = y.shape[0]\n",
        "y1 = y.reshape(1, examples)\n",
        "X1 = X / 255\n",
        "X1 = X1.T\n",
        "print(X1.shape)"
      ],
      "execution_count": null,
      "outputs": [
        {
          "output_type": "stream",
          "name": "stdout",
          "text": [
            "(784, 5000)\n",
            "time: 74.8 ms (started: 2024-12-23 20:22:32 +00:00)\n"
          ]
        }
      ]
    },
    {
      "cell_type": "markdown",
      "source": [
        "# Normalize and reshape the dataset:\n",
        "# - `y` is reshaped into a 2D array (1, number of examples) for consistency.\n",
        "# - The input data `X` is normalized by dividing each pixel value by 255 (scaling it to the range 0-1).\n",
        "# - The input data `X` is then transposed so that each column represents a single flattened image (28x28 = 784 pixels per image).\n",
        "# - Finally, the shape of the processed input data is printed to confirm the transformation.\n",
        "\n"
      ],
      "metadata": {
        "id": "Sz4pUp5XH9XH"
      }
    },
    {
      "cell_type": "markdown",
      "metadata": {
        "id": "i6K01j7A_Z4W"
      },
      "source": [
        "* Select two classes"
      ]
    },
    {
      "cell_type": "code",
      "metadata": {
        "id": "7OuPZ0o8DNWq",
        "colab": {
          "base_uri": "https://localhost:8080/"
        },
        "outputId": "2d83ca2f-a6b0-4c5e-ec6c-50fa9e26a355"
      },
      "source": [
        "unique, counts = np.unique(y, return_counts=True)\n",
        "class_counts = dict(zip(unique, counts))\n",
        "print(\"Class counts:\", class_counts)\n",
        "\n",
        "selected_classes = [4, 5]\n",
        "mask = np.isin(y.astype(int), selected_classes)\n",
        "X_selected = X1[:, mask]\n",
        "y_selected = y[mask].astype(int)\n",
        "y_binary = np.where(y_selected == selected_classes[1], 1, 0)\n",
        "\n",
        "print(f\"Selected classes shape: {X_selected.shape}\")\n",
        "print(f\"Binary labels shape: {y_binary.shape}\")\n"
      ],
      "execution_count": null,
      "outputs": [
        {
          "output_type": "stream",
          "name": "stdout",
          "text": [
            "Class counts: {'0': 500, '1': 500, '2': 500, '3': 500, '4': 500, '5': 500, '6': 500, '7': 500, '8': 500, '9': 500}\n",
            "Selected classes shape: (784, 1000)\n",
            "Binary labels shape: (1000,)\n",
            "time: 28.7 ms (started: 2024-12-23 20:22:34 +00:00)\n"
          ]
        }
      ]
    },
    {
      "cell_type": "markdown",
      "source": [
        "# This code filters the dataset to include only two specific classes (4 and 5).\n",
        "# It maps the selected class labels to binary values (4 → 0, 5 → 1)\n",
        "# for use in binary classification. It also prints the number of examples\n",
        "# in each class and the shapes of the filtered input data and binary labels."
      ],
      "metadata": {
        "id": "6hdSsw__Ic42"
      }
    },
    {
      "cell_type": "markdown",
      "metadata": {
        "id": "cn5UPcIQH2jS"
      },
      "source": [
        "### Split the data into Train set and Test set"
      ]
    },
    {
      "cell_type": "code",
      "metadata": {
        "id": "FBUI2DZmhd0y",
        "colab": {
          "base_uri": "https://localhost:8080/"
        },
        "outputId": "bec10872-bafb-4e30-e2b5-14b170438894"
      },
      "source": [
        "from sklearn.utils import shuffle\n",
        "\n",
        "X_selected, y_binary = shuffle(X_selected.T, y_binary.reshape(-1, 1))\n",
        "X_selected = X_selected.T\n",
        "\n",
        "train_size = int(0.8 * X_selected.shape[1])\n",
        "\n",
        "X_train = X_selected[:, :train_size]\n",
        "Y_train = y_binary[:train_size].reshape(1, -1)\n",
        "X_test = X_selected[:, train_size:]\n",
        "Y_test = y_binary[train_size:].reshape(1, -1)\n",
        "\n",
        "print(f\"Train set shape: {X_train.shape}, {Y_train.shape}\")\n",
        "print(f\"Test set shape: {X_test.shape}, {Y_test.shape}\")\n"
      ],
      "execution_count": null,
      "outputs": [
        {
          "output_type": "stream",
          "name": "stdout",
          "text": [
            "Train set shape: (784, 800), (1, 800)\n",
            "Test set shape: (784, 200), (1, 200)\n",
            "time: 42 ms (started: 2024-12-23 20:22:37 +00:00)\n"
          ]
        }
      ]
    },
    {
      "cell_type": "markdown",
      "source": [],
      "metadata": {
        "id": "hyN1IiDdLde9"
      }
    },
    {
      "cell_type": "markdown",
      "source": [
        "# This code splits the dataset into a training set (80%) and a test set (20%)\n",
        "# after shuffling the examples to ensure randomness. It ensures the labels\n",
        "# are correctly reshaped for compatibility with the neural network, and it\n",
        "# prints the shapes of the resulting training and test sets for verification."
      ],
      "metadata": {
        "id": "XGypd6IiIpSq"
      }
    },
    {
      "cell_type": "markdown",
      "metadata": {
        "id": "gg7D7fwGH9Yv"
      },
      "source": [
        "### Test yourself"
      ]
    },
    {
      "cell_type": "code",
      "metadata": {
        "id": "wkLl0PSyDR9S",
        "colab": {
          "base_uri": "https://localhost:8080/",
          "height": 441
        },
        "outputId": "f2221974-6a2e-433e-cbc3-e808fa08b710"
      },
      "source": [
        "%matplotlib inline\n",
        "from numpy import random\n",
        "\n",
        "i = random.randint(800)\n",
        "plt.imshow(X_train[:, i].reshape(28, 28), cmap=matplotlib.cm.binary)\n",
        "plt.axis(\"off\")\n",
        "plt.show()\n",
        "print(f\"Label for the displayed image: {Y_train[0, i]}\")"
      ],
      "execution_count": null,
      "outputs": [
        {
          "output_type": "display_data",
          "data": {
            "text/plain": [
              "<Figure size 640x480 with 1 Axes>"
            ],
            "image/png": "[encoded data removed]"
          },
          "metadata": {}
        },
        {
          "output_type": "stream",
          "name": "stdout",
          "text": [
            "Label for the displayed image: 0\n",
            "time: 145 ms (started: 2024-12-23 20:22:39 +00:00)\n"
          ]
        }
      ]
    },
    {
      "cell_type": "markdown",
      "source": [
        "# This code randomly selects an example from the training set, visualizes the corresponding image,\n",
        "# and prints its label. It verifies that the data preprocessing was done correctly and the images\n",
        "# align with their respective labels. The displayed image is reshaped from a flat 784-pixel vector\n",
        "# to a 28x28 grid and shown using a binary grayscale colormap."
      ],
      "metadata": {
        "id": "b8w7IxkmI4mw"
      }
    },
    {
      "cell_type": "markdown",
      "metadata": {
        "id": "Q81OW5M7oCWZ"
      },
      "source": [
        "**Activation functions (10%**)"
      ]
    },
    {
      "cell_type": "markdown",
      "source": [],
      "metadata": {
        "id": "tsS7Ac5sGzcH"
      }
    },
    {
      "cell_type": "code",
      "metadata": {
        "id": "nxruxXBsDmP-",
        "colab": {
          "base_uri": "https://localhost:8080/"
        },
        "outputId": "73ba8dee-dd79-4246-c23f-8494edee6198"
      },
      "source": [
        "def sigmoid(z):\n",
        "    return 1 / (1 + np.exp(-z))\n",
        "\n",
        "test_input = np.array([-2, -1, 0, 1, 2])\n",
        "print(\"Sigmoid output:\", sigmoid(test_input))\n"
      ],
      "execution_count": null,
      "outputs": [
        {
          "output_type": "stream",
          "name": "stdout",
          "text": [
            "Sigmoid output: [0.11920292 0.26894142 0.5        0.73105858 0.88079708]\n",
            "time: 3.57 ms (started: 2024-12-23 20:22:43 +00:00)\n"
          ]
        }
      ]
    },
    {
      "cell_type": "markdown",
      "source": [
        "# This code defines the sigmoid activation function, which maps any input value to a range between 0 and 1.\n",
        "# The function is commonly used in neural networks for binary classification tasks.\n",
        "# The sigmoid function is tested on a sample input array to demonstrate how it transforms values,\n",
        "# producing outputs closer to 0 for negative inputs and closer to 1 for positive inputs."
      ],
      "metadata": {
        "id": "kTIC9TG-JDpn"
      }
    },
    {
      "cell_type": "markdown",
      "metadata": {
        "id": "OBIAUcVboOG9"
      },
      "source": [
        "## Loss Function (10%)\n",
        "\n",
        "The BCE Loss function embodies the idea that the neural network should incur a substantial penalty (i.e., Loss tending toward infinity) when the predicted probability diverges significantly from the actual label of the training example. Conversely, the Loss should be zero (Loss = 0) when the predicted probability aligns perfectly with the label of the training example. In simpler terms, the BCE Loss should be zero in the following two situations:\n",
        "\n",
        "- When the example has a positive label (${y} = 1$), the neural network should be entirely confident that the example belongs to the positive class, i.e., ($\\hat{p} = 1 $).\n",
        "- When the example has a negative label (${y} = 0$), the neural network should be entirely confident that the example does not belong to the positive class, i.e., ($\\hat{p} = 0 $).\n",
        "\n",
        "**It's important to note that when working with computers, extremely high or low values can sometimes be unmanageable and might even lead to system crashes. To address this, you must be aware of the range of values that cause the logarithm to yield infinity or negative infinity. Ensure you handle these edge cases within your function.**\n"
      ]
    },
    {
      "cell_type": "code",
      "metadata": {
        "id": "U0i2o9_KDUdQ",
        "colab": {
          "base_uri": "https://localhost:8080/"
        },
        "outputId": "5fa6ce31-93f6-4f4d-a8a7-a91c340e8bc6"
      },
      "source": [
        "def log_loss(y_hat, y):\n",
        "    epsilon = 1e-15\n",
        "    y_hat = np.clip(y_hat, epsilon, 1 - epsilon)\n",
        "    y = y.flatten()\n",
        "    y_hat = y_hat.flatten()\n",
        "    m = y.shape[0]\n",
        "    loss = - (1 / m) * np.sum(y * np.log(y_hat) + (1 - y) * np.log(1 - y_hat))\n",
        "    return loss\n",
        "\n",
        "y_test = np.array([[0, 1, 0, 1, 1]])\n",
        "y_hat_test = np.array([[0.1, 0.9, 0.2, 0.8, 0.7]])\n",
        "print(\"Log loss output:\", log_loss(y_hat_test, y_test))\n",
        "\n"
      ],
      "execution_count": null,
      "outputs": [
        {
          "output_type": "stream",
          "name": "stdout",
          "text": [
            "Log loss output: 0.20273661557656092\n",
            "time: 3.43 ms (started: 2024-12-23 20:22:46 +00:00)\n"
          ]
        }
      ]
    },
    {
      "cell_type": "markdown",
      "source": [
        "# This code defines the Binary Cross-Entropy (log-loss) function, which evaluates the average loss for a\n",
        "# binary classification task. It ensures numerical stability by clipping probabilities and calculates the loss\n",
        "# using true labels and predicted probabilities. The function is tested with a sample of true labels and predictions."
      ],
      "metadata": {
        "id": "wa9VLao7JfPp"
      }
    },
    {
      "cell_type": "markdown",
      "metadata": {
        "id": "WY9DQPrJmvHZ"
      },
      "source": [
        "\n",
        "\n",
        "```\n",
        "# This is formatted as code\n",
        "```\n",
        "\n",
        "## NN Hyper Parameters"
      ]
    },
    {
      "cell_type": "code",
      "metadata": {
        "id": "qGCU_QYRnJap",
        "colab": {
          "base_uri": "https://localhost:8080/"
        },
        "outputId": "c3f48576-c082-4473-ce91-49c8f9d94345"
      },
      "source": [
        "input_layer = X_train.shape[0]\n",
        "hidden_layer = 32\n",
        "output_layer = 1\n",
        "learning_rate = 0.01\n",
        "epochs = 50"
      ],
      "execution_count": null,
      "outputs": [
        {
          "output_type": "stream",
          "name": "stdout",
          "text": [
            "time: 726 µs (started: 2024-12-23 20:22:50 +00:00)\n"
          ]
        }
      ]
    },
    {
      "cell_type": "markdown",
      "source": [
        "# This section defines the hyperparameters for the neural network:\n",
        "# - `input_layer`: Number of input features (784, corresponding to 28x28 pixel images).\n",
        "# - `hidden_layer`: Number of neurons in the hidden layer (32).\n",
        "# - `output_layer`: Number of output neurons (1, for binary classification).\n",
        "# - `learning_rate`: The step size for updating weights during training (0.01).\n",
        "# - `epochs`: The number of complete passes over the training dataset (50)."
      ],
      "metadata": {
        "id": "g6K6oOMgJ0Ty"
      }
    },
    {
      "cell_type": "markdown",
      "metadata": {
        "id": "M6SdHpc2m3vV"
      },
      "source": [
        "## Weight and Bias Initialization"
      ]
    },
    {
      "cell_type": "code",
      "metadata": {
        "id": "IVRoMGxTnLZI",
        "colab": {
          "base_uri": "https://localhost:8080/"
        },
        "outputId": "1eede7b0-409f-48cf-d264-493dce4cc1a3"
      },
      "source": [
        "np.random.seed(42)\n",
        "W1 = np.random.randn(hidden_layer, input_layer) * 0.01\n",
        "b1 = np.zeros((hidden_layer, 1))\n",
        "W2 = np.random.randn(output_layer, hidden_layer) * 0.01\n",
        "b2 = np.zeros((output_layer, 1))\n",
        "\n",
        "print(W1.shape)\n",
        "print(b1.shape)\n",
        "print(W2.shape)\n",
        "print(b2.shape)"
      ],
      "execution_count": null,
      "outputs": [
        {
          "output_type": "stream",
          "name": "stdout",
          "text": [
            "(32, 784)\n",
            "(32, 1)\n",
            "(1, 32)\n",
            "(1, 1)\n",
            "time: 6.64 ms (started: 2024-12-23 20:22:53 +00:00)\n"
          ]
        }
      ]
    },
    {
      "cell_type": "markdown",
      "source": [
        "# This code initializes the weights and biases for a neural network with one hidden layer.\n",
        "# The weights are initialized randomly with small values scaled by 0.01 to prevent exploding gradients,\n",
        "# while the biases are initialized to zeros. The shapes of the initialized parameters are printed\n",
        "# to ensure they align with the network's architecture."
      ],
      "metadata": {
        "id": "G3a8JoTEKBel"
      }
    },
    {
      "cell_type": "markdown",
      "metadata": {
        "id": "fp-IaWECn6Hu"
      },
      "source": [
        "## Training (30%)"
      ]
    },
    {
      "cell_type": "code",
      "metadata": {
        "id": "4tdlcCGLDo7F",
        "colab": {
          "base_uri": "https://localhost:8080/"
        },
        "outputId": "99417758-8eeb-4a7b-9caa-2925349e37a3"
      },
      "source": [
        "X = X_train\n",
        "Y = Y_train\n",
        "loss_list = []\n",
        "epoch_list = []\n",
        "num_of_examples = X.shape[1]\n",
        "\n",
        "for i in range(epochs):\n",
        "    avg_epoch_loss = 0\n",
        "    for j in range(num_of_examples):\n",
        "        x_j = X[:, j].reshape(-1, 1)\n",
        "        y_j = Y[:, j].reshape(-1, 1)\n",
        "\n",
        "        Z1 = np.dot(W1, x_j) + b1\n",
        "        A1 = sigmoid(Z1)\n",
        "        Z2 = np.dot(W2, A1) + b2\n",
        "        A2 = sigmoid(Z2)\n",
        "\n",
        "        loss = log_loss(A2, y_j)\n",
        "        avg_epoch_loss += loss\n",
        "\n",
        "        dZ2 = A2 - y_j\n",
        "        dW2 = np.dot(dZ2, A1.T)\n",
        "        db2 = np.sum(dZ2, axis=1, keepdims=True)\n",
        "\n",
        "        dA1 = np.dot(W2.T, dZ2)\n",
        "        dZ1 = dA1 * A1 * (1 - A1)\n",
        "        dW1 = np.dot(dZ1, x_j.T)\n",
        "        db1 = np.sum(dZ1, axis=1, keepdims=True)\n",
        "\n",
        "        W2 = W2 - learning_rate * dW2\n",
        "        b2 = b2 - learning_rate * db2\n",
        "        W1 = W1 - learning_rate * dW1\n",
        "        b1 = b1 - learning_rate * db1\n",
        "\n",
        "    avg_epoch_loss = avg_epoch_loss / num_of_examples\n",
        "    loss_list.append(avg_epoch_loss)\n",
        "    epoch_list.append(i)\n",
        "    print(\"Epoch\", i + 1, \"Loss:\", avg_epoch_loss)"
      ],
      "execution_count": null,
      "outputs": [
        {
          "output_type": "stream",
          "name": "stdout",
          "text": [
            "Epoch 1 Loss: 0.6981892865271674\n",
            "Epoch 2 Loss: 0.6712642599858403\n",
            "Epoch 3 Loss: 0.4970440678868487\n",
            "Epoch 4 Loss: 0.25286181951491427\n",
            "Epoch 5 Loss: 0.14704900802909118\n",
            "Epoch 6 Loss: 0.10642198251808901\n",
            "Epoch 7 Loss: 0.08616881715056308\n",
            "Epoch 8 Loss: 0.07371129185690026\n",
            "Epoch 9 Loss: 0.06491931478488853\n",
            "Epoch 10 Loss: 0.05814503545062595\n",
            "Epoch 11 Loss: 0.05262194367460551\n",
            "Epoch 12 Loss: 0.047949860551500766\n",
            "Epoch 13 Loss: 0.043900896883996336\n",
            "Epoch 14 Loss: 0.04033634162185825\n",
            "Epoch 15 Loss: 0.03716710513327556\n",
            "Epoch 16 Loss: 0.034332993956760455\n",
            "Epoch 17 Loss: 0.03179083820370965\n",
            "Epoch 18 Loss: 0.029507274793811072\n",
            "Epoch 19 Loss: 0.02745438429765131\n",
            "Epoch 20 Loss: 0.025607295331559095\n",
            "Epoch 21 Loss: 0.0239431367107402\n",
            "Epoch 22 Loss: 0.022440788943758814\n",
            "Epoch 23 Loss: 0.02108098373437299\n",
            "Epoch 24 Loss: 0.019846454584552444\n",
            "Epoch 25 Loss: 0.018721997677848896\n",
            "Epoch 26 Loss: 0.017694412551694638\n",
            "Epoch 27 Loss: 0.01675234765763846\n",
            "Epoch 28 Loss: 0.015886091794894187\n",
            "Epoch 29 Loss: 0.015087347806929621\n",
            "Epoch 30 Loss: 0.014349013604791943\n",
            "Epoch 31 Loss: 0.013664984591242466\n",
            "Epoch 32 Loss: 0.01302998338238641\n",
            "Epoch 33 Loss: 0.012439417529615826\n",
            "Epoch 34 Loss: 0.011889263082691615\n",
            "Epoch 35 Loss: 0.011375970545456493\n",
            "Epoch 36 Loss: 0.01089638944439283\n",
            "Epoch 37 Loss: 0.010447707926994163\n",
            "Epoch 38 Loss: 0.010027404254384727\n",
            "Epoch 39 Loss: 0.00963320758281144\n",
            "Epoch 40 Loss: 0.009263065946965453\n",
            "Epoch 41 Loss: 0.008915119817359781\n",
            "Epoch 42 Loss: 0.008587679986376568\n",
            "Epoch 43 Loss: 0.00827920884231869\n",
            "Epoch 44 Loss: 0.007988304325891012\n",
            "Epoch 45 Loss: 0.00771368604059115\n",
            "Epoch 46 Loss: 0.007454183119538857\n",
            "Epoch 47 Loss: 0.007208723547175004\n",
            "Epoch 48 Loss: 0.006976324704040665\n",
            "Epoch 49 Loss: 0.00675608495359749\n",
            "Epoch 50 Loss: 0.0065471761271410555\n",
            "time: 13.9 s (started: 2024-12-23 20:22:56 +00:00)\n"
          ]
        }
      ]
    },
    {
      "cell_type": "markdown",
      "source": [
        "# This code implements the training loop for a neural network using batch gradient descent.\n",
        "# Detailed steps are as follows:\n",
        "\n",
        "# 1. **Initialization**:\n",
        "#    - The training dataset (`X_train` and `Y_train`) is prepared.\n",
        "#    - Lists `loss_list` and `epoch_list` store the average loss for each epoch and the epoch number.\n",
        "\n",
        "# 2. **Training Over Epochs**:\n",
        "#    - For each epoch, all training examples are processed individually to update weights and biases.\n",
        "\n",
        "# 3. **Forward Propagation**:\n",
        "#    - Compute the linear combination (`Z1`) and apply the sigmoid activation (`A1`) for the hidden layer.\n",
        "#    - Compute the linear combination (`Z2`) and apply the sigmoid activation (`A2`) for the output layer.\n",
        "\n",
        "# 4. **Loss Calculation**:\n",
        "#    - Use the binary cross-entropy function (`log_loss`) to compute the difference between the predicted probabilities (`A2`) and the true labels (`Y`).\n",
        "\n",
        "# 5. **Backpropagation**:\n",
        "#    - Gradients are calculated for the weights (`dW1`, `dW2`) and biases (`db1`, `db2`) using the chain rule.\n",
        "#    - Gradients propagate from the output layer back to the hidden layer.\n",
        "\n",
        "# 6. **Parameter Updates**:\n",
        "#    - The weights (`W1`, `W2`) and biases (`b1`, `b2`) are updated using gradient descent with the learning rate.\n",
        "\n",
        "# 7. **Epoch Summary**:\n",
        "#    - The average loss for the epoch is computed and added to `loss_list`.\n",
        "#    - The epoch number is logged in `epoch_list`.\n",
        "\n",
        "# This iterative process trains the neural network by minimizing the loss function over several epochs,\n",
        "# improving its ability to predict labels for the given data."
      ],
      "metadata": {
        "id": "Ctn8HCC1KPNy"
      }
    },
    {
      "cell_type": "markdown",
      "metadata": {
        "id": "TdgCk97534-B"
      },
      "source": [
        "### Loss Visualization"
      ]
    },
    {
      "cell_type": "code",
      "metadata": {
        "id": "RFo9NN5Q31X8",
        "colab": {
          "base_uri": "https://localhost:8080/",
          "height": 484
        },
        "outputId": "331e8964-4ab8-4d76-de5e-c3d7357a0312"
      },
      "source": [
        "import matplotlib.pyplot as plt\n",
        "plt.xlabel('Epoch Number')\n",
        "plt.ylabel(\"Loss\")\n",
        "plt.plot(epoch_list, loss_list)"
      ],
      "execution_count": null,
      "outputs": [
        {
          "output_type": "execute_result",
          "data": {
            "text/plain": [
              "[<matplotlib.lines.Line2D at 0x7c9ed1983550>]"
            ]
          },
          "metadata": {},
          "execution_count": 13
        },
        {
          "output_type": "display_data",
          "data": {
            "text/plain": [
              "<Figure size 640x480 with 1 Axes>"
            ],
            "image/png": "[encoded data removed]"
          },
          "metadata": {}
        },
        {
          "output_type": "stream",
          "name": "stdout",
          "text": [
            "time: 348 ms (started: 2024-12-23 20:23:51 +00:00)\n"
          ]
        }
      ]
    },
    {
      "cell_type": "markdown",
      "source": [
        "# This code visualizes the training process by plotting the average loss against the epoch number.\n",
        "# - The x-axis represents the number of epochs (iterations over the training dataset).\n",
        "# - The y-axis represents the average loss calculated for each epoch.\n",
        "# - The curve shows how the loss decreases as training progresses, indicating the model's learning efficiency.\n",
        "# This plot helps evaluate whether the model is converging (loss decreases over time)\n",
        "# or overfitting/underfitting (loss stabilizes too early or oscillates)."
      ],
      "metadata": {
        "id": "j7E7l_NMKrox"
      }
    },
    {
      "cell_type": "markdown",
      "source": [
        "## Results"
      ],
      "metadata": {
        "id": "5HV5g7j92Xfn"
      }
    },
    {
      "cell_type": "markdown",
      "metadata": {
        "id": "raBFclM5ploH"
      },
      "source": [
        "### Test your performance (20%)"
      ]
    },
    {
      "cell_type": "code",
      "metadata": {
        "id": "flfh-luxDs7Z",
        "colab": {
          "base_uri": "https://localhost:8080/"
        },
        "outputId": "76ec7236-e5c5-4d62-c723-a8ed1241e84f"
      },
      "source": [
        "X = X_test\n",
        "Y = Y_test\n",
        "\n",
        "Z1 = np.dot(W1, X) + b1\n",
        "A1 = sigmoid(Z1)\n",
        "Z2 = np.dot(W2, A1) + b2\n",
        "A2 = sigmoid(Z2)\n",
        "\n",
        "predictions = np.zeros((1, Y.shape[1]))\n",
        "labels = np.zeros((1, Y.shape[1]))\n",
        "\n",
        "for i in range(Y.shape[1]):\n",
        "    if A2[0, i] > 0.5:\n",
        "        predictions[0, i] = 1\n",
        "    labels[0, i] = Y[0, i]\n",
        "\n",
        "from sklearn.metrics import confusion_matrix, accuracy_score\n",
        "\n",
        "conf_matrix = confusion_matrix(labels.flatten(), predictions.flatten())\n",
        "accuracy = accuracy_score(labels.flatten(), predictions.flatten())\n",
        "\n",
        "print(\"Confusion Matrix:\\n\", conf_matrix)\n",
        "print(\"Accuracy:\", accuracy)"
      ],
      "execution_count": null,
      "outputs": [
        {
          "output_type": "stream",
          "name": "stdout",
          "text": [
            "Confusion Matrix:\n",
            " [[101   2]\n",
            " [  3  94]]\n",
            "Accuracy: 0.975\n",
            "time: 11.7 ms (started: 2024-12-23 20:23:55 +00:00)\n"
          ]
        }
      ]
    },
    {
      "cell_type": "markdown",
      "source": [
        "# This code evaluates the performance of the trained neural network on the test dataset.\n",
        "# It performs forward propagation to compute predicted probabilities and converts these probabilities\n",
        "# into binary classifications (0 or 1) based on a threshold of 0.5.\n",
        "# The true labels and predictions are compared to compute the confusion matrix,\n",
        "# which provides detailed classification results, and the overall accuracy score is calculated\n",
        "# to measure the model's effectiveness in classifying the test data."
      ],
      "metadata": {
        "id": "ex-SshmkLCt7"
      }
    },
    {
      "cell_type": "markdown",
      "source": [
        "### Visualize the results"
      ],
      "metadata": {
        "id": "7FtZr0EQBlcm"
      }
    },
    {
      "cell_type": "code",
      "metadata": {
        "id": "gAj_5W2wVUrI",
        "colab": {
          "base_uri": "https://localhost:8080/",
          "height": 1000
        },
        "outputId": "a18fa4e6-547e-48d6-fb69-f7210991ce41"
      },
      "source": [
        "%matplotlib inline\n",
        "from numpy import random\n",
        "\n",
        "num_examples_to_show = min(10, X_test.shape[1])\n",
        "\n",
        "for example in range(num_examples_to_show):\n",
        "    i = random.randint(X_test.shape[1])\n",
        "\n",
        "    plt.imshow(X_test[:, i].reshape(28, 28), cmap=matplotlib.cm.binary)\n",
        "    plt.axis(\"off\")\n",
        "    plt.show()\n",
        "\n",
        "    x_example = X_test[:, i].reshape(-1, 1)\n",
        "    Z1 = np.dot(W1, x_example) + b1\n",
        "    A1 = sigmoid(Z1)\n",
        "    Z2 = np.dot(W2, A1) + b2\n",
        "    A2 = sigmoid(Z2)\n",
        "\n",
        "    Yout = A2[0, 0]\n",
        "    predicted_label = 1 if Yout > 0.5 else 0\n",
        "    real_label = Y_test[0, i]\n",
        "\n",
        "    print(f\"Real Label: {real_label}, Predicted Label: {predicted_label}, Predicted Probability: {Yout:.4f}\")\n"
      ],
      "execution_count": null,
      "outputs": [
        {
          "output_type": "display_data",
          "data": {
            "text/plain": [
              "<Figure size 640x480 with 1 Axes>"
            ],
            "image/png": "[encoded data removed]"
          },
          "metadata": {}
        },
        {
          "output_type": "stream",
          "name": "stdout",
          "text": [
            "Real Label: 1, Predicted Label: 1, Predicted Probability: 0.9996\n"
          ]
        },
        {
          "output_type": "display_data",
          "data": {
            "text/plain": [
              "<Figure size 640x480 with 1 Axes>"
            ],
            "image/png": "[encoded data removed]"
          },
          "metadata": {}
        },
        {
          "output_type": "stream",
          "name": "stdout",
          "text": [
            "Real Label: 0, Predicted Label: 0, Predicted Probability: 0.0001\n"
          ]
        },
        {
          "output_type": "display_data",
          "data": {
            "text/plain": [
              "<Figure size 640x480 with 1 Axes>"
            ],
            "image/png": "[encoded data removed]"
          },
          "metadata": {}
        },
        {
          "output_type": "stream",
          "name": "stdout",
          "text": [
            "Real Label: 1, Predicted Label: 1, Predicted Probability: 0.9787\n"
          ]
        },
        {
          "output_type": "display_data",
          "data": {
            "text/plain": [
              "<Figure size 640x480 with 1 Axes>"
            ],
            "image/png": "[encoded data removed]"
          },
          "metadata": {}
        },
        {
          "output_type": "stream",
          "name": "stdout",
          "text": [
            "Real Label: 1, Predicted Label: 1, Predicted Probability: 0.9793\n"
          ]
        },
        {
          "output_type": "display_data",
          "data": {
            "text/plain": [
              "<Figure size 640x480 with 1 Axes>"
            ],
            "image/png": "[encoded data removed]"
          },
          "metadata": {}
        },
        {
          "output_type": "stream",
          "name": "stdout",
          "text": [
            "Real Label: 1, Predicted Label: 1, Predicted Probability: 0.9996\n"
          ]
        },
        {
          "output_type": "display_data",
          "data": {
            "text/plain": [
              "<Figure size 640x480 with 1 Axes>"
            ],
            "image/png": "[encoded data removed]"
          },
          "metadata": {}
        },
        {
          "output_type": "stream",
          "name": "stdout",
          "text": [
            "Real Label: 0, Predicted Label: 0, Predicted Probability: 0.0004\n"
          ]
        },
        {
          "output_type": "display_data",
          "data": {
            "text/plain": [
              "<Figure size 640x480 with 1 Axes>"
            ],
            "image/png": "[encoded data removed]"
          },
          "metadata": {}
        },
        {
          "output_type": "stream",
          "name": "stdout",
          "text": [
            "Real Label: 0, Predicted Label: 0, Predicted Probability: 0.0086\n"
          ]
        },
        {
          "output_type": "display_data",
          "data": {
            "text/plain": [
              "<Figure size 640x480 with 1 Axes>"
            ],
            "image/png": "[encoded data removed]"
          },
          "metadata": {}
        },
        {
          "output_type": "stream",
          "name": "stdout",
          "text": [
            "Real Label: 0, Predicted Label: 0, Predicted Probability: 0.0000\n"
          ]
        },
        {
          "output_type": "display_data",
          "data": {
            "text/plain": [
              "<Figure size 640x480 with 1 Axes>"
            ],
            "image/png": "[encoded data removed]"
          },
          "metadata": {}
        },
        {
          "output_type": "stream",
          "name": "stdout",
          "text": [
            "Real Label: 0, Predicted Label: 0, Predicted Probability: 0.0004\n"
          ]
        },
        {
          "output_type": "display_data",
          "data": {
            "text/plain": [
              "<Figure size 640x480 with 1 Axes>"
            ],
            "image/png": "[encoded data removed]"
          },
          "metadata": {}
        },
        {
          "output_type": "stream",
          "name": "stdout",
          "text": [
            "Real Label: 1, Predicted Label: 1, Predicted Probability: 0.9975\n",
            "time: 934 ms (started: 2024-12-23 20:24:37 +00:00)\n"
          ]
        }
      ]
    },
    {
      "cell_type": "markdown",
      "source": [
        "# This code visualizes the results of the neural network on 10 randomly selected test examples.\n",
        "# It displays each test image, performs forward propagation to compute the predicted probabilities,\n",
        "# and determines the predicted label based on a threshold of 0.5. The real label, predicted label,\n",
        "# and predicted probability are displayed for each example, allowing a direct comparison of the\n",
        "# model's predictions with the ground truth."
      ],
      "metadata": {
        "id": "PnJqg4OnLQo2"
      }
    }
  ]
}